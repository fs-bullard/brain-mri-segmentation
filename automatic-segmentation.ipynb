{
 "cells": [
  {
   "cell_type": "markdown",
   "metadata": {},
   "source": [
    "# Automatic Segmentation"
   ]
  },
  {
   "cell_type": "markdown",
   "metadata": {},
   "source": [
    "## Imports\n",
    "Import necessary libraries"
   ]
  },
  {
   "cell_type": "code",
   "execution_count": 27,
   "metadata": {},
   "outputs": [],
   "source": [
    "import numpy as np\n",
    "import pandas as pd\n",
    "import glob\n",
    "import os\n",
    "import cv2 as cv\n"
   ]
  },
  {
   "cell_type": "markdown",
   "metadata": {},
   "source": [
    "## Load Data\n",
    "- Create dataframe\n",
    "- Images are of form `<case_id>_<slice_number>.tif`, and masks `<case_id>_<slice_number>_mask.tif`"
   ]
  },
  {
   "cell_type": "markdown",
   "metadata": {},
   "source": [
    "### Create Dataframe"
   ]
  },
  {
   "cell_type": "code",
   "execution_count": 28,
   "metadata": {},
   "outputs": [],
   "source": [
    "def get_diagnosis(mask_path: str) -> bool:\n",
    "    '''\n",
    "    Diagnosis is positive if mask is anything but all black\n",
    "    '''\n",
    "    return np.max(cv.imread(mask_path)) > 0"
   ]
  },
  {
   "cell_type": "code",
   "execution_count": 29,
   "metadata": {},
   "outputs": [
    {
     "data": {
      "text/html": [
       "<div>\n",
       "<style scoped>\n",
       "    .dataframe tbody tr th:only-of-type {\n",
       "        vertical-align: middle;\n",
       "    }\n",
       "\n",
       "    .dataframe tbody tr th {\n",
       "        vertical-align: top;\n",
       "    }\n",
       "\n",
       "    .dataframe thead th {\n",
       "        text-align: right;\n",
       "    }\n",
       "</style>\n",
       "<table border=\"1\" class=\"dataframe\">\n",
       "  <thead>\n",
       "    <tr style=\"text-align: right;\">\n",
       "      <th></th>\n",
       "      <th>patient_id</th>\n",
       "      <th>image_path</th>\n",
       "      <th>mask_path</th>\n",
       "      <th>diagnosis</th>\n",
       "    </tr>\n",
       "  </thead>\n",
       "  <tbody>\n",
       "    <tr>\n",
       "      <th>0</th>\n",
       "      <td>TCGA_CS_4941_19960909</td>\n",
       "      <td>Resources\\Images\\TCGA_CS_4941_19960909\\TCGA_CS...</td>\n",
       "      <td>Resources\\Images\\TCGA_CS_4941_19960909\\TCGA_CS...</td>\n",
       "      <td>False</td>\n",
       "    </tr>\n",
       "    <tr>\n",
       "      <th>1</th>\n",
       "      <td>TCGA_CS_4941_19960909</td>\n",
       "      <td>Resources\\Images\\TCGA_CS_4941_19960909\\TCGA_CS...</td>\n",
       "      <td>Resources\\Images\\TCGA_CS_4941_19960909\\TCGA_CS...</td>\n",
       "      <td>False</td>\n",
       "    </tr>\n",
       "    <tr>\n",
       "      <th>2</th>\n",
       "      <td>TCGA_CS_4941_19960909</td>\n",
       "      <td>Resources\\Images\\TCGA_CS_4941_19960909\\TCGA_CS...</td>\n",
       "      <td>Resources\\Images\\TCGA_CS_4941_19960909\\TCGA_CS...</td>\n",
       "      <td>True</td>\n",
       "    </tr>\n",
       "    <tr>\n",
       "      <th>3</th>\n",
       "      <td>TCGA_CS_4941_19960909</td>\n",
       "      <td>Resources\\Images\\TCGA_CS_4941_19960909\\TCGA_CS...</td>\n",
       "      <td>Resources\\Images\\TCGA_CS_4941_19960909\\TCGA_CS...</td>\n",
       "      <td>True</td>\n",
       "    </tr>\n",
       "    <tr>\n",
       "      <th>4</th>\n",
       "      <td>TCGA_CS_4941_19960909</td>\n",
       "      <td>Resources\\Images\\TCGA_CS_4941_19960909\\TCGA_CS...</td>\n",
       "      <td>Resources\\Images\\TCGA_CS_4941_19960909\\TCGA_CS...</td>\n",
       "      <td>True</td>\n",
       "    </tr>\n",
       "  </tbody>\n",
       "</table>\n",
       "</div>"
      ],
      "text/plain": [
       "              patient_id                                         image_path  \\\n",
       "0  TCGA_CS_4941_19960909  Resources\\Images\\TCGA_CS_4941_19960909\\TCGA_CS...   \n",
       "1  TCGA_CS_4941_19960909  Resources\\Images\\TCGA_CS_4941_19960909\\TCGA_CS...   \n",
       "2  TCGA_CS_4941_19960909  Resources\\Images\\TCGA_CS_4941_19960909\\TCGA_CS...   \n",
       "3  TCGA_CS_4941_19960909  Resources\\Images\\TCGA_CS_4941_19960909\\TCGA_CS...   \n",
       "4  TCGA_CS_4941_19960909  Resources\\Images\\TCGA_CS_4941_19960909\\TCGA_CS...   \n",
       "\n",
       "                                           mask_path  diagnosis  \n",
       "0  Resources\\Images\\TCGA_CS_4941_19960909\\TCGA_CS...      False  \n",
       "1  Resources\\Images\\TCGA_CS_4941_19960909\\TCGA_CS...      False  \n",
       "2  Resources\\Images\\TCGA_CS_4941_19960909\\TCGA_CS...       True  \n",
       "3  Resources\\Images\\TCGA_CS_4941_19960909\\TCGA_CS...       True  \n",
       "4  Resources\\Images\\TCGA_CS_4941_19960909\\TCGA_CS...       True  "
      ]
     },
     "execution_count": 29,
     "metadata": {},
     "output_type": "execute_result"
    }
   ],
   "source": [
    "d = {\n",
    "    'patient_id': [],\n",
    "    'image_path': [],\n",
    "    'mask_path': [],\n",
    "    'diagnosis': []\n",
    "    }\n",
    "\n",
    "for sub_dir_path in glob.glob('Resources\\Images\\\\' + '*'):\n",
    "    if os.path.isdir(sub_dir_path):\n",
    "        dir_name = sub_dir_path.split('\\\\')[-1]\n",
    "\n",
    "        for im_name in os.listdir(sub_dir_path):\n",
    "            if 'mask' in im_name:\n",
    "                continue\n",
    "\n",
    "            mask_path = sub_dir_path + '\\\\' + im_name[:-4] + '_mask.tif'\n",
    "            diagnosis = get_diagnosis(mask_path)\n",
    "\n",
    "            d['patient_id'].append(dir_name)\n",
    "            d['image_path'].append(sub_dir_path + '\\\\' + im_name)\n",
    "            d['mask_path'].append(mask_path)\n",
    "            d['diagnosis'].append(diagnosis)\n",
    "\n",
    "\n",
    "\n",
    "df = pd.DataFrame(data=d)\n",
    "df.head()"
   ]
  },
  {
   "cell_type": "markdown",
   "metadata": {},
   "source": [
    "## Pre-processing"
   ]
  },
  {
   "cell_type": "markdown",
   "metadata": {},
   "source": [
    "## Segmentation"
   ]
  },
  {
   "cell_type": "markdown",
   "metadata": {},
   "source": [
    "## Post-processing"
   ]
  },
  {
   "cell_type": "markdown",
   "metadata": {},
   "source": [
    "## Extraction of shape features"
   ]
  },
  {
   "cell_type": "markdown",
   "metadata": {},
   "source": []
  }
 ],
 "metadata": {
  "kernelspec": {
   "display_name": "Python 3",
   "language": "python",
   "name": "python3"
  },
  "language_info": {
   "codemirror_mode": {
    "name": "ipython",
    "version": 3
   },
   "file_extension": ".py",
   "mimetype": "text/x-python",
   "name": "python",
   "nbconvert_exporter": "python",
   "pygments_lexer": "ipython3",
   "version": "3.10.7"
  },
  "orig_nbformat": 4
 },
 "nbformat": 4,
 "nbformat_minor": 2
}
